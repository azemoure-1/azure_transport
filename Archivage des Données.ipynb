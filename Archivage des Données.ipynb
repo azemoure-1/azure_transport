{
 "cells": [
  {
   "cell_type": "code",
   "execution_count": 0,
   "metadata": {
    "application/vnd.databricks.v1+cell": {
     "cellMetadata": {
      "byteLimit": 2048000,
      "rowLimit": 10000
     },
     "inputWidgets": {},
     "nuid": "ee4bc086-283a-46b6-9712-3e46d7374b1c",
     "showTitle": false,
     "title": ""
    }
   },
   "outputs": [],
   "source": [
    "\n",
    "from datetime import datetime\n",
    "from pyspark.sql.functions import col, expr\n",
    "from pyspark.sql import SparkSession\n",
    "\n",
    "#Connection configuration\n",
    "spark.conf.set(\n",
    "\"fs.azure.account.key.azemourstorage.blob.core.windows.net\", \"kEjUrj5seRnPiSRkcQRPmozB610QhZLtZn9GrRhZk/D76nVsr6DNejvGRq0wEQWFiqcJjWgWi7cQ+AStydUbmQ==\")\n",
    "\n",
    "# Define Azure Blob Storage paths\n",
    "raw_folder_path = \"/mnt/public-transport-data/raw/\"\n",
    "csv_file_path = \"/mnt/public-transport-data/processed_files/processing_state.csv\"\n",
    "\n",
    "# Read the CSV file and extract dataset names and dates\n",
    "processing_state_df = spark.read.format('csv').option('header', True).load(\"wasbs://public-transport-data@azemourstorage.blob.core.windows.net/processed_fils/*.csv\")\n",
    "\n",
    "processing_state_df = processing_state_df.withColumn(\"date\", expr(\"to_date(date)\"))\n",
    "\n",
    "# Calculate dataset age in months\n",
    "current_date = datetime.now().date()\n",
    "processing_state_df = processing_state_df.withColumn(\"age_in_months\", expr(\"round(months_between(current_date, date))\"))\n",
    "\n",
    "# Filter datasets older than 3 months\n",
    "datasets_to_delete = processing_state_df.filter(col(\"age_in_months\") >= 3)\n",
    "\n",
    "# Delete older datasets from the 'raw' folder\n",
    "for dataset in datasets_to_delete.collect():\n",
    "    dataset_name = dataset[\"name_file\"]\n",
    "    source_path = raw_folder_path + dataset_name\n",
    "    dbutils.fs.rm(source_path)\n",
    "    print(f\"Dataset {dataset_name} deleted from 'raw' folder.\")\n"
   ]
  },
  {
   "cell_type": "code",
   "execution_count": 0,
   "metadata": {
    "application/vnd.databricks.v1+cell": {
     "cellMetadata": {},
     "inputWidgets": {},
     "nuid": "14edc81a-3ae9-4715-be18-20e568e27a01",
     "showTitle": false,
     "title": ""
    }
   },
   "outputs": [],
   "source": []
  }
 ],
 "metadata": {
  "application/vnd.databricks.v1+notebook": {
   "dashboards": [],
   "language": "python",
   "notebookMetadata": {
    "pythonIndentUnit": 4
   },
   "notebookName": "Archivage des Données",
   "widgets": {}
  }
 },
 "nbformat": 4,
 "nbformat_minor": 0
}
